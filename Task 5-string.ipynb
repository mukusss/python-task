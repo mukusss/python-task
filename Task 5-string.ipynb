{
 "cells": [
  {
   "cell_type": "code",
   "execution_count": 10,
   "id": "2e2a9b94",
   "metadata": {},
   "outputs": [],
   "source": [
    "str1='Welcome to python'"
   ]
  },
  {
   "cell_type": "code",
   "execution_count": 11,
   "id": "ecedcd87",
   "metadata": {},
   "outputs": [
    {
     "name": "stdout",
     "output_type": "stream",
     "text": [
      "Welcome to python\n"
     ]
    }
   ],
   "source": [
    "print(str1)"
   ]
  },
  {
   "cell_type": "code",
   "execution_count": 12,
   "id": "6da7a591",
   "metadata": {},
   "outputs": [
    {
     "data": {
      "text/plain": [
       "<function str.capitalize()>"
      ]
     },
     "execution_count": 12,
     "metadata": {},
     "output_type": "execute_result"
    }
   ],
   "source": [
    "str1.capitalize"
   ]
  },
  {
   "cell_type": "code",
   "execution_count": 13,
   "id": "2099c7ba",
   "metadata": {},
   "outputs": [
    {
     "data": {
      "text/plain": [
       "0"
      ]
     },
     "execution_count": 13,
     "metadata": {},
     "output_type": "execute_result"
    }
   ],
   "source": [
    "str1.count(\"0\")"
   ]
  },
  {
   "cell_type": "code",
   "execution_count": 14,
   "id": "769dd38d",
   "metadata": {},
   "outputs": [
    {
     "data": {
      "text/plain": [
       "True"
      ]
     },
     "execution_count": 14,
     "metadata": {},
     "output_type": "execute_result"
    }
   ],
   "source": [
    "str1.startswith('We')"
   ]
  },
  {
   "cell_type": "code",
   "execution_count": 15,
   "id": "721c9771",
   "metadata": {},
   "outputs": [
    {
     "data": {
      "text/plain": [
       "False"
      ]
     },
     "execution_count": 15,
     "metadata": {},
     "output_type": "execute_result"
    }
   ],
   "source": [
    "str1.startswith('to')"
   ]
  },
  {
   "cell_type": "code",
   "execution_count": 16,
   "id": "ec91c2b2",
   "metadata": {},
   "outputs": [
    {
     "data": {
      "text/plain": [
       "True"
      ]
     },
     "execution_count": 16,
     "metadata": {},
     "output_type": "execute_result"
    }
   ],
   "source": [
    "str1.endswith('on')"
   ]
  },
  {
   "cell_type": "code",
   "execution_count": 17,
   "id": "1252f2b1",
   "metadata": {},
   "outputs": [
    {
     "data": {
      "text/plain": [
       "False"
      ]
     },
     "execution_count": 17,
     "metadata": {},
     "output_type": "execute_result"
    }
   ],
   "source": [
    "str1.endswith('py')"
   ]
  },
  {
   "cell_type": "code",
   "execution_count": 18,
   "id": "d1462bd7",
   "metadata": {},
   "outputs": [
    {
     "data": {
      "text/plain": [
       "4"
      ]
     },
     "execution_count": 18,
     "metadata": {},
     "output_type": "execute_result"
    }
   ],
   "source": [
    "str1.find('o')"
   ]
  },
  {
   "cell_type": "code",
   "execution_count": 19,
   "id": "05438082",
   "metadata": {},
   "outputs": [
    {
     "data": {
      "text/plain": [
       "11"
      ]
     },
     "execution_count": 19,
     "metadata": {},
     "output_type": "execute_result"
    }
   ],
   "source": [
    "str1.find('p')"
   ]
  },
  {
   "cell_type": "code",
   "execution_count": 20,
   "id": "a5fcba95",
   "metadata": {},
   "outputs": [
    {
     "data": {
      "text/plain": [
       "'Welcome to python'"
      ]
     },
     "execution_count": 20,
     "metadata": {},
     "output_type": "execute_result"
    }
   ],
   "source": [
    "str1.lstrip(\"p\")"
   ]
  },
  {
   "cell_type": "code",
   "execution_count": 22,
   "id": "b67802c0",
   "metadata": {},
   "outputs": [
    {
     "data": {
      "text/plain": [
       "'Welcome to python'"
      ]
     },
     "execution_count": 22,
     "metadata": {},
     "output_type": "execute_result"
    }
   ],
   "source": [
    "str1.rstrip(\"c\")"
   ]
  },
  {
   "cell_type": "code",
   "execution_count": 23,
   "id": "ec69a586",
   "metadata": {},
   "outputs": [
    {
     "data": {
      "text/plain": [
       "['Welc', 'me t', ' pyth', 'n']"
      ]
     },
     "execution_count": 23,
     "metadata": {},
     "output_type": "execute_result"
    }
   ],
   "source": [
    "str1.split(\"o\")"
   ]
  },
  {
   "cell_type": "code",
   "execution_count": null,
   "id": "a997abd5",
   "metadata": {},
   "outputs": [],
   "source": []
  },
  {
   "cell_type": "code",
   "execution_count": null,
   "id": "5f2af4e2",
   "metadata": {},
   "outputs": [],
   "source": []
  },
  {
   "cell_type": "code",
   "execution_count": 1,
   "id": "823d09fb",
   "metadata": {},
   "outputs": [],
   "source": [
    "str2=\"11111111111111111111a111111111111111111111 is the example of task......\""
   ]
  },
  {
   "cell_type": "code",
   "execution_count": 2,
   "id": "ddcbb1ad",
   "metadata": {},
   "outputs": [
    {
     "data": {
      "text/plain": [
       "'a111111111111111111111 is the example of task......'"
      ]
     },
     "execution_count": 2,
     "metadata": {},
     "output_type": "execute_result"
    }
   ],
   "source": [
    "str2.lstrip(\"1\")"
   ]
  },
  {
   "cell_type": "code",
   "execution_count": 3,
   "id": "4600eeae",
   "metadata": {},
   "outputs": [
    {
     "data": {
      "text/plain": [
       "'11111111111111111111a111111111111111111111 is the example of task......'"
      ]
     },
     "execution_count": 3,
     "metadata": {},
     "output_type": "execute_result"
    }
   ],
   "source": [
    "str2"
   ]
  },
  {
   "cell_type": "code",
   "execution_count": null,
   "id": "82d3958c",
   "metadata": {},
   "outputs": [],
   "source": []
  },
  {
   "cell_type": "code",
   "execution_count": null,
   "id": "ed209b90",
   "metadata": {},
   "outputs": [],
   "source": []
  },
  {
   "cell_type": "code",
   "execution_count": 4,
   "id": "7df84669",
   "metadata": {},
   "outputs": [],
   "source": [
    "t=\"welcome to my lecture\""
   ]
  },
  {
   "cell_type": "code",
   "execution_count": 5,
   "id": "935d2c46",
   "metadata": {},
   "outputs": [
    {
     "data": {
      "text/plain": [
       "'welcome to my python tutorial'"
      ]
     },
     "execution_count": 5,
     "metadata": {},
     "output_type": "execute_result"
    }
   ],
   "source": [
    "t.replace('lecture','python tutorial')"
   ]
  },
  {
   "cell_type": "code",
   "execution_count": null,
   "id": "32efdb37",
   "metadata": {},
   "outputs": [],
   "source": []
  },
  {
   "cell_type": "code",
   "execution_count": null,
   "id": "5460d60e",
   "metadata": {},
   "outputs": [],
   "source": []
  },
  {
   "cell_type": "code",
   "execution_count": 6,
   "id": "4f201144",
   "metadata": {},
   "outputs": [],
   "source": [
    "str3=\"6666666666666 this is demo\""
   ]
  },
  {
   "cell_type": "code",
   "execution_count": 7,
   "id": "7c1f7e40",
   "metadata": {},
   "outputs": [
    {
     "data": {
      "text/plain": [
       "'6666666666666 this is demo'"
      ]
     },
     "execution_count": 7,
     "metadata": {},
     "output_type": "execute_result"
    }
   ],
   "source": [
    "str3.rstrip('6')"
   ]
  },
  {
   "cell_type": "code",
   "execution_count": 8,
   "id": "68d2229e",
   "metadata": {},
   "outputs": [
    {
     "data": {
      "text/plain": [
       "'6666666666666 this is demo'"
      ]
     },
     "execution_count": 8,
     "metadata": {},
     "output_type": "execute_result"
    }
   ],
   "source": [
    "str3"
   ]
  },
  {
   "cell_type": "code",
   "execution_count": null,
   "id": "1873dd7c",
   "metadata": {},
   "outputs": [],
   "source": []
  }
 ],
 "metadata": {
  "kernelspec": {
   "display_name": "Python 3 (ipykernel)",
   "language": "python",
   "name": "python3"
  },
  "language_info": {
   "codemirror_mode": {
    "name": "ipython",
    "version": 3
   },
   "file_extension": ".py",
   "mimetype": "text/x-python",
   "name": "python",
   "nbconvert_exporter": "python",
   "pygments_lexer": "ipython3",
   "version": "3.11.3"
  }
 },
 "nbformat": 4,
 "nbformat_minor": 5
}
