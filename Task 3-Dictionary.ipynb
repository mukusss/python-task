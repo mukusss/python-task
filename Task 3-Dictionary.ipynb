{
 "cells": [
  {
   "cell_type": "code",
   "execution_count": 1,
   "id": "7977f368",
   "metadata": {},
   "outputs": [],
   "source": [
    "fruits={'apple':{'color':'red','taste':'sweet','price':'200rs'},'orange':{'color':'orange','taste':'sweet and tangy','price':'150rs'}}"
   ]
  },
  {
   "cell_type": "code",
   "execution_count": 2,
   "id": "86529c6f",
   "metadata": {},
   "outputs": [
    {
     "data": {
      "text/plain": [
       "{'apple': {'color': 'red', 'taste': 'sweet', 'price': '200rs'},\n",
       " 'orange': {'color': 'orange', 'taste': 'sweet and tangy', 'price': '150rs'}}"
      ]
     },
     "execution_count": 2,
     "metadata": {},
     "output_type": "execute_result"
    }
   ],
   "source": [
    "fruits"
   ]
  },
  {
   "cell_type": "code",
   "execution_count": 7,
   "id": "389105b8",
   "metadata": {},
   "outputs": [
    {
     "name": "stdout",
     "output_type": "stream",
     "text": [
      "Color: red\n",
      "Taste: sweet\n",
      "Price: 200rs\n"
     ]
    }
   ],
   "source": [
    "print(\"Color:\", fruits['apple']['color'])\n",
    "print(\"Taste:\", fruits['apple']['taste'])\n",
    "print(\"Price:\", fruits['apple']['price'])\n"
   ]
  },
  {
   "cell_type": "code",
   "execution_count": null,
   "id": "56e613ae",
   "metadata": {},
   "outputs": [],
   "source": []
  },
  {
   "cell_type": "code",
   "execution_count": null,
   "id": "4fcb2271",
   "metadata": {},
   "outputs": [],
   "source": []
  },
  {
   "cell_type": "code",
   "execution_count": 15,
   "id": "d8a68e11",
   "metadata": {},
   "outputs": [],
   "source": [
    "d={\"name\":[\"Mukul\",\"Rutuja\",\"Sarvesh\"],\"marks\":[\"90\",\"85\",\"92\"],\"city\":[\"sangli\",\"kolhapur\",\"pune\"]}"
   ]
  },
  {
   "cell_type": "code",
   "execution_count": 16,
   "id": "677a4b83",
   "metadata": {},
   "outputs": [
    {
     "data": {
      "text/plain": [
       "{'name': ['Mukul', 'Rutuja', 'Sarvesh'],\n",
       " 'marks': ['90', '85', '92'],\n",
       " 'city': ['sangli', 'kolhapur', 'pune']}"
      ]
     },
     "execution_count": 16,
     "metadata": {},
     "output_type": "execute_result"
    }
   ],
   "source": [
    "d"
   ]
  },
  {
   "cell_type": "code",
   "execution_count": 17,
   "id": "0dac8e55",
   "metadata": {},
   "outputs": [
    {
     "data": {
      "text/plain": [
       "['Mukul', 'Rutuja', 'Sarvesh']"
      ]
     },
     "execution_count": 17,
     "metadata": {},
     "output_type": "execute_result"
    }
   ],
   "source": [
    "d[\"name\"]"
   ]
  },
  {
   "cell_type": "code",
   "execution_count": 18,
   "id": "4fe38eaf",
   "metadata": {},
   "outputs": [
    {
     "data": {
      "text/plain": [
       "['sangli', 'kolhapur', 'pune']"
      ]
     },
     "execution_count": 18,
     "metadata": {},
     "output_type": "execute_result"
    }
   ],
   "source": [
    "d[\"city\"]"
   ]
  },
  {
   "cell_type": "code",
   "execution_count": 19,
   "id": "79301c56",
   "metadata": {},
   "outputs": [
    {
     "data": {
      "text/plain": [
       "['90', '85', '92']"
      ]
     },
     "execution_count": 19,
     "metadata": {},
     "output_type": "execute_result"
    }
   ],
   "source": [
    "d[\"marks\"]"
   ]
  },
  {
   "cell_type": "code",
   "execution_count": null,
   "id": "25abc94d",
   "metadata": {},
   "outputs": [],
   "source": []
  }
 ],
 "metadata": {
  "kernelspec": {
   "display_name": "Python 3 (ipykernel)",
   "language": "python",
   "name": "python3"
  },
  "language_info": {
   "codemirror_mode": {
    "name": "ipython",
    "version": 3
   },
   "file_extension": ".py",
   "mimetype": "text/x-python",
   "name": "python",
   "nbconvert_exporter": "python",
   "pygments_lexer": "ipython3",
   "version": "3.11.3"
  }
 },
 "nbformat": 4,
 "nbformat_minor": 5
}
