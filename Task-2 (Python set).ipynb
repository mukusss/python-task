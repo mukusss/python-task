{
 "cells": [
  {
   "cell_type": "code",
   "execution_count": 1,
   "id": "0628cdfd",
   "metadata": {},
   "outputs": [
    {
     "data": {
      "text/plain": [
       "{1, 2, 3, 4, 6, 7, 8}"
      ]
     },
     "execution_count": 1,
     "metadata": {},
     "output_type": "execute_result"
    }
   ],
   "source": [
    "#Set creation\n",
    "my_set ={2,2,3,4,4,1,7,8,6}\n",
    "my_set"
   ]
  },
  {
   "cell_type": "code",
   "execution_count": 2,
   "id": "62664233",
   "metadata": {},
   "outputs": [
    {
     "data": {
      "text/plain": [
       "set"
      ]
     },
     "execution_count": 2,
     "metadata": {},
     "output_type": "execute_result"
    }
   ],
   "source": [
    "type(my_set)"
   ]
  },
  {
   "cell_type": "code",
   "execution_count": 3,
   "id": "ee0229bb",
   "metadata": {},
   "outputs": [],
   "source": [
    "#set of mixed datatypes\n",
    "my_set={2.0,\"Interns\",(3,4,5)}"
   ]
  },
  {
   "cell_type": "code",
   "execution_count": 4,
   "id": "ba4bf974",
   "metadata": {},
   "outputs": [
    {
     "data": {
      "text/plain": [
       "{(3, 4, 5), 2.0, 'Interns'}"
      ]
     },
     "execution_count": 4,
     "metadata": {},
     "output_type": "execute_result"
    }
   ],
   "source": [
    "my_set"
   ]
  },
  {
   "cell_type": "code",
   "execution_count": 5,
   "id": "a6c900da",
   "metadata": {},
   "outputs": [],
   "source": [
    "#set do not have duplicate \n",
    "my_set = {1,200,60,6,3,100,2,2,2,2,2,2,4,4,4,4,8}"
   ]
  },
  {
   "cell_type": "code",
   "execution_count": 6,
   "id": "74064dd0",
   "metadata": {},
   "outputs": [
    {
     "data": {
      "text/plain": [
       "{1, 2, 3, 4, 6, 8, 60, 100, 200}"
      ]
     },
     "execution_count": 6,
     "metadata": {},
     "output_type": "execute_result"
    }
   ],
   "source": [
    "my_set"
   ]
  },
  {
   "cell_type": "code",
   "execution_count": null,
   "id": "3e1cb875",
   "metadata": {},
   "outputs": [],
   "source": [
    "\n"
   ]
  },
  {
   "cell_type": "code",
   "execution_count": null,
   "id": "10c9ec0c",
   "metadata": {},
   "outputs": [],
   "source": []
  },
  {
   "cell_type": "code",
   "execution_count": 7,
   "id": "c66ae96f",
   "metadata": {},
   "outputs": [],
   "source": [
    "#Python set buil-in methods"
   ]
  },
  {
   "cell_type": "code",
   "execution_count": 17,
   "id": "01bf9644",
   "metadata": {},
   "outputs": [],
   "source": [
    "my_set={1,10,5,87,45,20,36,45}"
   ]
  },
  {
   "cell_type": "code",
   "execution_count": 18,
   "id": "d20134ec",
   "metadata": {},
   "outputs": [
    {
     "data": {
      "text/plain": [
       "{1, 5, 10, 20, 36, 45, 87}"
      ]
     },
     "execution_count": 18,
     "metadata": {},
     "output_type": "execute_result"
    }
   ],
   "source": [
    "my_set"
   ]
  },
  {
   "cell_type": "code",
   "execution_count": 19,
   "id": "2ea2f8cb",
   "metadata": {},
   "outputs": [],
   "source": [
    "#1-add()\n",
    "my_set.add(\"2\")\n",
    "my_set.add(\"6\")\n",
    "my_set.add(\"40\")\n",
    "my_set.add(\"100\")"
   ]
  },
  {
   "cell_type": "code",
   "execution_count": 20,
   "id": "55394640",
   "metadata": {},
   "outputs": [
    {
     "data": {
      "text/plain": [
       "{1, 10, '100', '2', 20, 36, '40', 45, 5, '6', 87}"
      ]
     },
     "execution_count": 20,
     "metadata": {},
     "output_type": "execute_result"
    }
   ],
   "source": [
    "my_set"
   ]
  },
  {
   "cell_type": "code",
   "execution_count": 21,
   "id": "b6a2976f",
   "metadata": {},
   "outputs": [],
   "source": [
    "#create an empty set for cars"
   ]
  },
  {
   "cell_type": "code",
   "execution_count": 22,
   "id": "9748fbd2",
   "metadata": {},
   "outputs": [],
   "source": [
    "cars_set=set()\n",
    "\n",
    "# Add cars to the set\n",
    "cars_set.add(\"Toyota\")\n",
    "cars_set.add(\"Honda\")\n",
    "cars_set.add(\"BMW\")\n",
    "cars_set.add(\"Ford\")\n",
    "cars_set.add(\"Range Rover\")\n",
    "cars_set.add(\"Audi\")\n",
    "cars_set.add(\"BMW\")\n",
    "cars_set.add(\"Kia\")"
   ]
  },
  {
   "cell_type": "code",
   "execution_count": 23,
   "id": "07c8d7bd",
   "metadata": {},
   "outputs": [
    {
     "data": {
      "text/plain": [
       "{'Audi', 'BMW', 'Ford', 'Honda', 'Kia', 'Range Rover', 'Toyota'}"
      ]
     },
     "execution_count": 23,
     "metadata": {},
     "output_type": "execute_result"
    }
   ],
   "source": [
    "cars_set"
   ]
  },
  {
   "cell_type": "code",
   "execution_count": null,
   "id": "5501631c",
   "metadata": {},
   "outputs": [],
   "source": []
  },
  {
   "cell_type": "code",
   "execution_count": 1,
   "id": "4c50d841",
   "metadata": {},
   "outputs": [],
   "source": [
    "#2-clear()\n",
    "my_st={1,2,3,4,5,6,7,8,9,10}"
   ]
  },
  {
   "cell_type": "code",
   "execution_count": 2,
   "id": "83c3c557",
   "metadata": {},
   "outputs": [
    {
     "data": {
      "text/plain": [
       "{1, 2, 3, 4, 5, 6, 7, 8, 9, 10}"
      ]
     },
     "execution_count": 2,
     "metadata": {},
     "output_type": "execute_result"
    }
   ],
   "source": [
    "my_st"
   ]
  },
  {
   "cell_type": "code",
   "execution_count": 3,
   "id": "dcb16b90",
   "metadata": {},
   "outputs": [],
   "source": [
    "my_st.clear()"
   ]
  },
  {
   "cell_type": "code",
   "execution_count": 4,
   "id": "3333d04f",
   "metadata": {},
   "outputs": [
    {
     "data": {
      "text/plain": [
       "set()"
      ]
     },
     "execution_count": 4,
     "metadata": {},
     "output_type": "execute_result"
    }
   ],
   "source": [
    "my_st"
   ]
  },
  {
   "cell_type": "code",
   "execution_count": null,
   "id": "52eefff0",
   "metadata": {},
   "outputs": [],
   "source": []
  },
  {
   "cell_type": "code",
   "execution_count": 6,
   "id": "e80d44f2",
   "metadata": {},
   "outputs": [
    {
     "data": {
      "text/plain": [
       "{1, 2, 3, 4, 5, 6}"
      ]
     },
     "execution_count": 6,
     "metadata": {},
     "output_type": "execute_result"
    }
   ],
   "source": [
    "#3-copy()\n",
    "my_set={1,2,3,4,5,6}\n",
    "my_set"
   ]
  },
  {
   "cell_type": "code",
   "execution_count": 8,
   "id": "5677a2e6",
   "metadata": {},
   "outputs": [],
   "source": [
    "my_set1=my_set.copy()\n"
   ]
  },
  {
   "cell_type": "code",
   "execution_count": 10,
   "id": "683ad31d",
   "metadata": {},
   "outputs": [],
   "source": [
    "my_set1.add(7)"
   ]
  },
  {
   "cell_type": "code",
   "execution_count": 11,
   "id": "e3befdc3",
   "metadata": {},
   "outputs": [
    {
     "data": {
      "text/plain": [
       "{1, 2, 3, 4, 5, 6, 7}"
      ]
     },
     "execution_count": 11,
     "metadata": {},
     "output_type": "execute_result"
    }
   ],
   "source": [
    "my_set1"
   ]
  },
  {
   "cell_type": "code",
   "execution_count": 12,
   "id": "2d2fbdfa",
   "metadata": {},
   "outputs": [
    {
     "data": {
      "text/plain": [
       "{1, 2, 3, 4, 5, 6}"
      ]
     },
     "execution_count": 12,
     "metadata": {},
     "output_type": "execute_result"
    }
   ],
   "source": [
    "my_set"
   ]
  },
  {
   "cell_type": "code",
   "execution_count": null,
   "id": "21188a9c",
   "metadata": {},
   "outputs": [],
   "source": [
    "\n"
   ]
  },
  {
   "cell_type": "code",
   "execution_count": 13,
   "id": "5b658f4e",
   "metadata": {},
   "outputs": [],
   "source": [
    "#4-difference()\n",
    "set1={1,2,3,4,5}\n",
    "set2={4,5,6,7,8}"
   ]
  },
  {
   "cell_type": "code",
   "execution_count": 14,
   "id": "012a1a55",
   "metadata": {},
   "outputs": [],
   "source": [
    "result_set = set1.difference(set2)"
   ]
  },
  {
   "cell_type": "code",
   "execution_count": 15,
   "id": "4dbca254",
   "metadata": {},
   "outputs": [
    {
     "data": {
      "text/plain": [
       "{1, 2, 3}"
      ]
     },
     "execution_count": 15,
     "metadata": {},
     "output_type": "execute_result"
    }
   ],
   "source": [
    "result_set"
   ]
  },
  {
   "cell_type": "code",
   "execution_count": 16,
   "id": "8d042442",
   "metadata": {},
   "outputs": [],
   "source": [
    "result_set = set2.difference(set1)"
   ]
  },
  {
   "cell_type": "code",
   "execution_count": 17,
   "id": "cc04c50c",
   "metadata": {},
   "outputs": [
    {
     "data": {
      "text/plain": [
       "{6, 7, 8}"
      ]
     },
     "execution_count": 17,
     "metadata": {},
     "output_type": "execute_result"
    }
   ],
   "source": [
    "result_set"
   ]
  },
  {
   "cell_type": "code",
   "execution_count": null,
   "id": "b51664ef",
   "metadata": {},
   "outputs": [],
   "source": []
  },
  {
   "cell_type": "code",
   "execution_count": 18,
   "id": "8b99bb64",
   "metadata": {},
   "outputs": [],
   "source": [
    "#5-difference_update()\n",
    "set1={1,2,3,4,5}\n",
    "set2={4,5,6,7,8}"
   ]
  },
  {
   "cell_type": "code",
   "execution_count": 19,
   "id": "fe08dbbc",
   "metadata": {},
   "outputs": [],
   "source": [
    "set1.difference_update(set2)"
   ]
  },
  {
   "cell_type": "code",
   "execution_count": 20,
   "id": "4c76a824",
   "metadata": {},
   "outputs": [
    {
     "data": {
      "text/plain": [
       "{1, 2, 3}"
      ]
     },
     "execution_count": 20,
     "metadata": {},
     "output_type": "execute_result"
    }
   ],
   "source": [
    "set1"
   ]
  },
  {
   "cell_type": "code",
   "execution_count": null,
   "id": "922bcaa6",
   "metadata": {},
   "outputs": [],
   "source": []
  },
  {
   "cell_type": "code",
   "execution_count": 21,
   "id": "fcb9831d",
   "metadata": {},
   "outputs": [],
   "source": [
    "#6-discard()\n",
    "my_set={1,2,3,4,5,6,7,8,9,10}"
   ]
  },
  {
   "cell_type": "code",
   "execution_count": 22,
   "id": "dc41cca3",
   "metadata": {},
   "outputs": [
    {
     "data": {
      "text/plain": [
       "{1, 2, 3, 4, 5, 6, 7, 8, 9, 10}"
      ]
     },
     "execution_count": 22,
     "metadata": {},
     "output_type": "execute_result"
    }
   ],
   "source": [
    "my_set"
   ]
  },
  {
   "cell_type": "code",
   "execution_count": 23,
   "id": "cef43a78",
   "metadata": {},
   "outputs": [],
   "source": [
    "my_set.discard(4)"
   ]
  },
  {
   "cell_type": "code",
   "execution_count": 24,
   "id": "9dfc18ca",
   "metadata": {},
   "outputs": [
    {
     "data": {
      "text/plain": [
       "{1, 2, 3, 5, 6, 7, 8, 9, 10}"
      ]
     },
     "execution_count": 24,
     "metadata": {},
     "output_type": "execute_result"
    }
   ],
   "source": [
    "my_set"
   ]
  },
  {
   "cell_type": "code",
   "execution_count": null,
   "id": "19a8dea6",
   "metadata": {},
   "outputs": [],
   "source": []
  },
  {
   "cell_type": "code",
   "execution_count": 26,
   "id": "0bf8c1da",
   "metadata": {},
   "outputs": [],
   "source": [
    "#7-intersection\n",
    "set1={1,2,3,4,5}\n",
    "set2={4,5,6,7,8,}"
   ]
  },
  {
   "cell_type": "code",
   "execution_count": 27,
   "id": "a324228e",
   "metadata": {},
   "outputs": [],
   "source": [
    "result_set=set1.intersection(set2)"
   ]
  },
  {
   "cell_type": "code",
   "execution_count": 28,
   "id": "f0c529b6",
   "metadata": {},
   "outputs": [
    {
     "data": {
      "text/plain": [
       "{4, 5}"
      ]
     },
     "execution_count": 28,
     "metadata": {},
     "output_type": "execute_result"
    }
   ],
   "source": [
    "result_set"
   ]
  },
  {
   "cell_type": "code",
   "execution_count": null,
   "id": "e55be2c9",
   "metadata": {},
   "outputs": [],
   "source": []
  },
  {
   "cell_type": "code",
   "execution_count": 29,
   "id": "ca302eb4",
   "metadata": {},
   "outputs": [
    {
     "data": {
      "text/plain": [
       "{1, 2, 3, 4, 5}"
      ]
     },
     "execution_count": 29,
     "metadata": {},
     "output_type": "execute_result"
    }
   ],
   "source": [
    "#8-intersection_update()\n",
    "set1"
   ]
  },
  {
   "cell_type": "code",
   "execution_count": 30,
   "id": "f854e43c",
   "metadata": {},
   "outputs": [
    {
     "data": {
      "text/plain": [
       "{4, 5, 6, 7, 8}"
      ]
     },
     "execution_count": 30,
     "metadata": {},
     "output_type": "execute_result"
    }
   ],
   "source": [
    "set2"
   ]
  },
  {
   "cell_type": "code",
   "execution_count": 31,
   "id": "304fe661",
   "metadata": {},
   "outputs": [],
   "source": [
    "set1.intersection_update(set2)"
   ]
  },
  {
   "cell_type": "code",
   "execution_count": 32,
   "id": "e67ebf4c",
   "metadata": {},
   "outputs": [
    {
     "data": {
      "text/plain": [
       "{4, 5}"
      ]
     },
     "execution_count": 32,
     "metadata": {},
     "output_type": "execute_result"
    }
   ],
   "source": [
    "set1"
   ]
  },
  {
   "cell_type": "code",
   "execution_count": null,
   "id": "2d817e56",
   "metadata": {},
   "outputs": [],
   "source": []
  },
  {
   "cell_type": "code",
   "execution_count": 33,
   "id": "f920e2eb",
   "metadata": {},
   "outputs": [],
   "source": [
    "#9-isdisjoint()\n",
    "set1={1,2,3,4,5}\n",
    "set2={6,7,8,9,10}"
   ]
  },
  {
   "cell_type": "code",
   "execution_count": 34,
   "id": "b018b6eb",
   "metadata": {},
   "outputs": [],
   "source": [
    "result=set1.isdisjoint(set2)"
   ]
  },
  {
   "cell_type": "code",
   "execution_count": 35,
   "id": "166a5816",
   "metadata": {},
   "outputs": [
    {
     "data": {
      "text/plain": [
       "True"
      ]
     },
     "execution_count": 35,
     "metadata": {},
     "output_type": "execute_result"
    }
   ],
   "source": [
    "result"
   ]
  },
  {
   "cell_type": "code",
   "execution_count": 43,
   "id": "52f4d922",
   "metadata": {},
   "outputs": [],
   "source": [
    "set1={1,2,3,4}\n",
    "set2={3,4,5,6}"
   ]
  },
  {
   "cell_type": "code",
   "execution_count": 44,
   "id": "c8c0f3fa",
   "metadata": {},
   "outputs": [],
   "source": [
    "result=set1.isdisjoint(set2)"
   ]
  },
  {
   "cell_type": "code",
   "execution_count": 45,
   "id": "7a6f80c4",
   "metadata": {},
   "outputs": [
    {
     "data": {
      "text/plain": [
       "False"
      ]
     },
     "execution_count": 45,
     "metadata": {},
     "output_type": "execute_result"
    }
   ],
   "source": [
    "result"
   ]
  },
  {
   "cell_type": "code",
   "execution_count": null,
   "id": "2cefceb0",
   "metadata": {},
   "outputs": [],
   "source": []
  },
  {
   "cell_type": "code",
   "execution_count": 46,
   "id": "80b8b234",
   "metadata": {},
   "outputs": [],
   "source": [
    "#10-issubset()\n",
    "set1={1,2,3}\n",
    "set2={1,2,3,4,5}"
   ]
  },
  {
   "cell_type": "code",
   "execution_count": 47,
   "id": "0a97abe5",
   "metadata": {},
   "outputs": [],
   "source": [
    "result=set1.issubset(set2)"
   ]
  },
  {
   "cell_type": "code",
   "execution_count": 48,
   "id": "963f167b",
   "metadata": {},
   "outputs": [
    {
     "data": {
      "text/plain": [
       "True"
      ]
     },
     "execution_count": 48,
     "metadata": {},
     "output_type": "execute_result"
    }
   ],
   "source": [
    "result"
   ]
  },
  {
   "cell_type": "code",
   "execution_count": 49,
   "id": "3da966cb",
   "metadata": {},
   "outputs": [],
   "source": [
    "set1={1,2,3}\n",
    "set2={4,5,6,7,8}"
   ]
  },
  {
   "cell_type": "code",
   "execution_count": 50,
   "id": "2ddc8709",
   "metadata": {},
   "outputs": [],
   "source": [
    "result=set1.issubset(set2)"
   ]
  },
  {
   "cell_type": "code",
   "execution_count": 51,
   "id": "a10742e9",
   "metadata": {},
   "outputs": [
    {
     "data": {
      "text/plain": [
       "False"
      ]
     },
     "execution_count": 51,
     "metadata": {},
     "output_type": "execute_result"
    }
   ],
   "source": [
    "result"
   ]
  },
  {
   "cell_type": "code",
   "execution_count": null,
   "id": "2e8db146",
   "metadata": {},
   "outputs": [],
   "source": []
  },
  {
   "cell_type": "code",
   "execution_count": 52,
   "id": "68c5c049",
   "metadata": {},
   "outputs": [],
   "source": [
    "#11-issuperset()\n",
    "set1 = {1, 2, 3, 4, 5}\n",
    "set2 = {1, 2, 3}"
   ]
  },
  {
   "cell_type": "code",
   "execution_count": 53,
   "id": "b73ec196",
   "metadata": {},
   "outputs": [],
   "source": [
    "result = set1.issuperset(set2)"
   ]
  },
  {
   "cell_type": "code",
   "execution_count": 54,
   "id": "f986580e",
   "metadata": {},
   "outputs": [
    {
     "data": {
      "text/plain": [
       "True"
      ]
     },
     "execution_count": 54,
     "metadata": {},
     "output_type": "execute_result"
    }
   ],
   "source": [
    "result"
   ]
  },
  {
   "cell_type": "code",
   "execution_count": 55,
   "id": "120bf2ed",
   "metadata": {},
   "outputs": [],
   "source": [
    "set1 = {1, 2, 3, 4, 5}\n",
    "set2 = {6,7,8}"
   ]
  },
  {
   "cell_type": "code",
   "execution_count": 56,
   "id": "5dbb4d05",
   "metadata": {},
   "outputs": [],
   "source": [
    "result = set1.issuperset(set2)"
   ]
  },
  {
   "cell_type": "code",
   "execution_count": 57,
   "id": "4e401e81",
   "metadata": {},
   "outputs": [
    {
     "data": {
      "text/plain": [
       "False"
      ]
     },
     "execution_count": 57,
     "metadata": {},
     "output_type": "execute_result"
    }
   ],
   "source": [
    "result"
   ]
  },
  {
   "cell_type": "code",
   "execution_count": null,
   "id": "971e20a4",
   "metadata": {},
   "outputs": [],
   "source": []
  },
  {
   "cell_type": "code",
   "execution_count": 58,
   "id": "2e1d3a22",
   "metadata": {},
   "outputs": [
    {
     "name": "stdout",
     "output_type": "stream",
     "text": [
      "Removed element: 1\n",
      "Updated set: {2, 3, 4, 5}\n"
     ]
    }
   ],
   "source": [
    "#12-pop()\n",
    "my_set = {1, 2, 3, 4, 5}\n",
    "removed_element = my_set.pop()\n",
    "print(\"Removed element:\", removed_element)\n",
    "print(\"Updated set:\", my_set)"
   ]
  },
  {
   "cell_type": "code",
   "execution_count": null,
   "id": "eb00ec38",
   "metadata": {},
   "outputs": [],
   "source": []
  },
  {
   "cell_type": "code",
   "execution_count": 59,
   "id": "a26db160",
   "metadata": {},
   "outputs": [],
   "source": [
    "#13-remove()\n",
    "my_set = {1, 2, 3, 4, 5}"
   ]
  },
  {
   "cell_type": "code",
   "execution_count": 60,
   "id": "745f1da7",
   "metadata": {},
   "outputs": [],
   "source": [
    "my_set.remove(3)"
   ]
  },
  {
   "cell_type": "code",
   "execution_count": 61,
   "id": "8f481cc4",
   "metadata": {},
   "outputs": [
    {
     "name": "stdout",
     "output_type": "stream",
     "text": [
      "Updated set: {1, 2, 4, 5}\n"
     ]
    }
   ],
   "source": [
    "print(\"Updated set:\", my_set)"
   ]
  },
  {
   "cell_type": "code",
   "execution_count": null,
   "id": "e99f3524",
   "metadata": {},
   "outputs": [],
   "source": []
  },
  {
   "cell_type": "code",
   "execution_count": 62,
   "id": "69673635",
   "metadata": {},
   "outputs": [],
   "source": [
    "#14-symmetric_difference()\n",
    "set1={1,2,3,4,5}\n",
    "set2={3,4,5,6,7}"
   ]
  },
  {
   "cell_type": "code",
   "execution_count": 63,
   "id": "afc1c39c",
   "metadata": {},
   "outputs": [],
   "source": [
    "result=set1.symmetric_difference(set2)"
   ]
  },
  {
   "cell_type": "code",
   "execution_count": 64,
   "id": "74a3cdda",
   "metadata": {},
   "outputs": [
    {
     "data": {
      "text/plain": [
       "{1, 2, 6, 7}"
      ]
     },
     "execution_count": 64,
     "metadata": {},
     "output_type": "execute_result"
    }
   ],
   "source": [
    "result"
   ]
  },
  {
   "cell_type": "code",
   "execution_count": null,
   "id": "fb92f6fb",
   "metadata": {},
   "outputs": [],
   "source": []
  },
  {
   "cell_type": "code",
   "execution_count": 65,
   "id": "232fc5ab",
   "metadata": {},
   "outputs": [],
   "source": [
    "#15-symmetric_difference_update()\n",
    "set1.symmetric_difference_update(set2)"
   ]
  },
  {
   "cell_type": "code",
   "execution_count": 66,
   "id": "c93bfaee",
   "metadata": {},
   "outputs": [
    {
     "data": {
      "text/plain": [
       "{1, 2, 6, 7}"
      ]
     },
     "execution_count": 66,
     "metadata": {},
     "output_type": "execute_result"
    }
   ],
   "source": [
    "set1"
   ]
  },
  {
   "cell_type": "code",
   "execution_count": null,
   "id": "5f7cdd54",
   "metadata": {},
   "outputs": [],
   "source": []
  },
  {
   "cell_type": "code",
   "execution_count": 67,
   "id": "b347c2d8",
   "metadata": {},
   "outputs": [],
   "source": [
    "#16-union()\n",
    "result_set = set1.union(set2)"
   ]
  },
  {
   "cell_type": "code",
   "execution_count": 68,
   "id": "e14b4d07",
   "metadata": {},
   "outputs": [
    {
     "data": {
      "text/plain": [
       "{1, 2, 3, 4, 5, 6, 7}"
      ]
     },
     "execution_count": 68,
     "metadata": {},
     "output_type": "execute_result"
    }
   ],
   "source": [
    "result_set"
   ]
  },
  {
   "cell_type": "code",
   "execution_count": null,
   "id": "fb54b6d8",
   "metadata": {},
   "outputs": [],
   "source": []
  },
  {
   "cell_type": "code",
   "execution_count": 69,
   "id": "65c30700",
   "metadata": {},
   "outputs": [],
   "source": [
    "#17-update()\n",
    "set1.update(set2)"
   ]
  },
  {
   "cell_type": "code",
   "execution_count": 70,
   "id": "ad53ffda",
   "metadata": {},
   "outputs": [
    {
     "data": {
      "text/plain": [
       "{1, 2, 3, 4, 5, 6, 7}"
      ]
     },
     "execution_count": 70,
     "metadata": {},
     "output_type": "execute_result"
    }
   ],
   "source": [
    "set1"
   ]
  },
  {
   "cell_type": "code",
   "execution_count": 71,
   "id": "0c7e951e",
   "metadata": {},
   "outputs": [],
   "source": [
    "set3={8,9,10,11,12,13,14}\n",
    "set4={15,16,17,18,19,20}"
   ]
  },
  {
   "cell_type": "code",
   "execution_count": 72,
   "id": "e77446c3",
   "metadata": {},
   "outputs": [],
   "source": [
    "set1.update(set3, set4)"
   ]
  },
  {
   "cell_type": "code",
   "execution_count": 73,
   "id": "c2d7b4ee",
   "metadata": {},
   "outputs": [
    {
     "data": {
      "text/plain": [
       "{1, 2, 3, 4, 5, 6, 7, 8, 9, 10, 11, 12, 13, 14, 15, 16, 17, 18, 19, 20}"
      ]
     },
     "execution_count": 73,
     "metadata": {},
     "output_type": "execute_result"
    }
   ],
   "source": [
    "set1"
   ]
  },
  {
   "cell_type": "code",
   "execution_count": null,
   "id": "a36f97c5",
   "metadata": {},
   "outputs": [],
   "source": []
  }
 ],
 "metadata": {
  "kernelspec": {
   "display_name": "Python 3 (ipykernel)",
   "language": "python",
   "name": "python3"
  },
  "language_info": {
   "codemirror_mode": {
    "name": "ipython",
    "version": 3
   },
   "file_extension": ".py",
   "mimetype": "text/x-python",
   "name": "python",
   "nbconvert_exporter": "python",
   "pygments_lexer": "ipython3",
   "version": "3.11.3"
  }
 },
 "nbformat": 4,
 "nbformat_minor": 5
}
