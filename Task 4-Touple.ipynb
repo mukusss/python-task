{
 "cells": [
  {
   "cell_type": "code",
   "execution_count": 1,
   "id": "b92e72a5",
   "metadata": {},
   "outputs": [],
   "source": [
    "my_tuple=(1,2,3,'hello',10)"
   ]
  },
  {
   "cell_type": "code",
   "execution_count": 2,
   "id": "e45330e7",
   "metadata": {},
   "outputs": [
    {
     "data": {
      "text/plain": [
       "(1, 2, 3, 'hello', 10)"
      ]
     },
     "execution_count": 2,
     "metadata": {},
     "output_type": "execute_result"
    }
   ],
   "source": [
    "my_tuple"
   ]
  },
  {
   "cell_type": "code",
   "execution_count": 6,
   "id": "964ca1e7",
   "metadata": {},
   "outputs": [
    {
     "data": {
      "text/plain": [
       "1"
      ]
     },
     "execution_count": 6,
     "metadata": {},
     "output_type": "execute_result"
    }
   ],
   "source": [
    "my_tuple.count(2)"
   ]
  },
  {
   "cell_type": "code",
   "execution_count": 7,
   "id": "99e3c9f7",
   "metadata": {},
   "outputs": [
    {
     "data": {
      "text/plain": [
       "2"
      ]
     },
     "execution_count": 7,
     "metadata": {},
     "output_type": "execute_result"
    }
   ],
   "source": [
    "my_tuple.index(3)"
   ]
  },
  {
   "cell_type": "code",
   "execution_count": null,
   "id": "7fbb44f3",
   "metadata": {},
   "outputs": [],
   "source": []
  }
 ],
 "metadata": {
  "kernelspec": {
   "display_name": "Python 3 (ipykernel)",
   "language": "python",
   "name": "python3"
  },
  "language_info": {
   "codemirror_mode": {
    "name": "ipython",
    "version": 3
   },
   "file_extension": ".py",
   "mimetype": "text/x-python",
   "name": "python",
   "nbconvert_exporter": "python",
   "pygments_lexer": "ipython3",
   "version": "3.11.3"
  }
 },
 "nbformat": 4,
 "nbformat_minor": 5
}
