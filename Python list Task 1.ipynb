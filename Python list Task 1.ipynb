{
 "cells": [
  {
   "cell_type": "code",
   "execution_count": 5,
   "id": "770990bd",
   "metadata": {},
   "outputs": [],
   "source": [
    "# Built-in Methods in python "
   ]
  },
  {
   "cell_type": "code",
   "execution_count": 6,
   "id": "ee5a47d9",
   "metadata": {},
   "outputs": [
    {
     "data": {
      "text/plain": [
       "['audi', 'BMW', 'mercedes', 'Rolls Royce', 'Kia']"
      ]
     },
     "execution_count": 6,
     "metadata": {},
     "output_type": "execute_result"
    }
   ],
   "source": [
    "#1-append() \n",
    "cars=['audi','BMW','mercedes','Rolls Royce','Kia']\n",
    "cars"
   ]
  },
  {
   "cell_type": "code",
   "execution_count": 10,
   "id": "89874d3e",
   "metadata": {},
   "outputs": [],
   "source": [
    "cars.append(\"Range Rover\")"
   ]
  },
  {
   "cell_type": "code",
   "execution_count": 8,
   "id": "5195c423",
   "metadata": {},
   "outputs": [
    {
     "data": {
      "text/plain": [
       "['audi', 'BMW', 'mercedes', 'Rolls Royce', 'Kia', 'Range Rover']"
      ]
     },
     "execution_count": 8,
     "metadata": {},
     "output_type": "execute_result"
    }
   ],
   "source": [
    "cars"
   ]
  },
  {
   "cell_type": "code",
   "execution_count": 13,
   "id": "7b42a557",
   "metadata": {},
   "outputs": [],
   "source": [
    "#2-clear()\n",
    "cars.clear()"
   ]
  },
  {
   "cell_type": "code",
   "execution_count": 14,
   "id": "e666d70d",
   "metadata": {},
   "outputs": [
    {
     "data": {
      "text/plain": [
       "[]"
      ]
     },
     "execution_count": 14,
     "metadata": {},
     "output_type": "execute_result"
    }
   ],
   "source": [
    "cars"
   ]
  },
  {
   "cell_type": "code",
   "execution_count": 18,
   "id": "ed439507",
   "metadata": {},
   "outputs": [],
   "source": [
    "#3-copy()\n",
    "cars=['audi','BMW','mercedes','Rolls Royce','Kia']\n",
    "my_cars=cars.copy()\n",
    "cars.append(\"audi\")"
   ]
  },
  {
   "cell_type": "code",
   "execution_count": 16,
   "id": "440ce38f",
   "metadata": {},
   "outputs": [
    {
     "data": {
      "text/plain": [
       "['audi', 'BMW', 'mercedes', 'Rolls Royce', 'Kia']"
      ]
     },
     "execution_count": 16,
     "metadata": {},
     "output_type": "execute_result"
    }
   ],
   "source": [
    "my_cars"
   ]
  },
  {
   "cell_type": "code",
   "execution_count": 19,
   "id": "4692599b",
   "metadata": {},
   "outputs": [
    {
     "data": {
      "text/plain": [
       "2"
      ]
     },
     "execution_count": 19,
     "metadata": {},
     "output_type": "execute_result"
    }
   ],
   "source": [
    "#4-count \n",
    "cars.count('audi')"
   ]
  },
  {
   "cell_type": "code",
   "execution_count": 20,
   "id": "98623ac8",
   "metadata": {},
   "outputs": [
    {
     "data": {
      "text/plain": [
       "['audi', 'BMW', 'mercedes', 'Rolls Royce', 'Kia', 'audi']"
      ]
     },
     "execution_count": 20,
     "metadata": {},
     "output_type": "execute_result"
    }
   ],
   "source": [
    "cars\n"
   ]
  },
  {
   "cell_type": "code",
   "execution_count": 21,
   "id": "74b09583",
   "metadata": {},
   "outputs": [],
   "source": [
    "#5-extend\n",
    "new_cars=['Toyota','Ford','Range rover','honda','Ferari']"
   ]
  },
  {
   "cell_type": "code",
   "execution_count": 22,
   "id": "3dfe804e",
   "metadata": {},
   "outputs": [
    {
     "data": {
      "text/plain": [
       "['Toyota', 'Ford', 'Range rover', 'honda', 'Ferari']"
      ]
     },
     "execution_count": 22,
     "metadata": {},
     "output_type": "execute_result"
    }
   ],
   "source": [
    "new_cars"
   ]
  },
  {
   "cell_type": "code",
   "execution_count": 23,
   "id": "c3072537",
   "metadata": {},
   "outputs": [],
   "source": [
    "cars.extend(new_cars)"
   ]
  },
  {
   "cell_type": "code",
   "execution_count": 24,
   "id": "5c028ec3",
   "metadata": {},
   "outputs": [
    {
     "name": "stdout",
     "output_type": "stream",
     "text": [
      "['audi', 'BMW', 'mercedes', 'Rolls Royce', 'Kia', 'audi', 'Toyota', 'Ford', 'Range rover', 'honda', 'Ferari']\n"
     ]
    }
   ],
   "source": [
    "print(cars)"
   ]
  },
  {
   "cell_type": "code",
   "execution_count": 27,
   "id": "3a40f00c",
   "metadata": {},
   "outputs": [
    {
     "data": {
      "text/plain": [
       "4"
      ]
     },
     "execution_count": 27,
     "metadata": {},
     "output_type": "execute_result"
    }
   ],
   "source": [
    "#6-index()\n",
    "cars.index(\"Kia\")"
   ]
  },
  {
   "cell_type": "code",
   "execution_count": 28,
   "id": "a3561e4d",
   "metadata": {},
   "outputs": [],
   "source": [
    "#7-insert()\n",
    "cars.insert(0,'jaguar')"
   ]
  },
  {
   "cell_type": "code",
   "execution_count": 29,
   "id": "70a2d012",
   "metadata": {},
   "outputs": [
    {
     "data": {
      "text/plain": [
       "['jaguar',\n",
       " 'audi',\n",
       " 'BMW',\n",
       " 'mercedes',\n",
       " 'Rolls Royce',\n",
       " 'Kia',\n",
       " 'audi',\n",
       " 'Toyota',\n",
       " 'Ford',\n",
       " 'Range rover',\n",
       " 'honda',\n",
       " 'Ferari']"
      ]
     },
     "execution_count": 29,
     "metadata": {},
     "output_type": "execute_result"
    }
   ],
   "source": [
    "cars"
   ]
  },
  {
   "cell_type": "code",
   "execution_count": 30,
   "id": "0a94d6fe",
   "metadata": {},
   "outputs": [
    {
     "data": {
      "text/plain": [
       "'audi'"
      ]
     },
     "execution_count": 30,
     "metadata": {},
     "output_type": "execute_result"
    }
   ],
   "source": [
    "#8-pop()\n",
    "cars.pop(6)"
   ]
  },
  {
   "cell_type": "code",
   "execution_count": 31,
   "id": "695b46f7",
   "metadata": {},
   "outputs": [
    {
     "data": {
      "text/plain": [
       "['jaguar',\n",
       " 'audi',\n",
       " 'BMW',\n",
       " 'mercedes',\n",
       " 'Rolls Royce',\n",
       " 'Kia',\n",
       " 'Toyota',\n",
       " 'Ford',\n",
       " 'Range rover',\n",
       " 'honda',\n",
       " 'Ferari']"
      ]
     },
     "execution_count": 31,
     "metadata": {},
     "output_type": "execute_result"
    }
   ],
   "source": [
    "cars"
   ]
  },
  {
   "cell_type": "code",
   "execution_count": 32,
   "id": "3d363075",
   "metadata": {},
   "outputs": [
    {
     "data": {
      "text/plain": [
       "'audi'"
      ]
     },
     "execution_count": 32,
     "metadata": {},
     "output_type": "execute_result"
    }
   ],
   "source": [
    "cars.pop(1)"
   ]
  },
  {
   "cell_type": "code",
   "execution_count": 33,
   "id": "e1a12cd8",
   "metadata": {},
   "outputs": [
    {
     "data": {
      "text/plain": [
       "['jaguar',\n",
       " 'BMW',\n",
       " 'mercedes',\n",
       " 'Rolls Royce',\n",
       " 'Kia',\n",
       " 'Toyota',\n",
       " 'Ford',\n",
       " 'Range rover',\n",
       " 'honda',\n",
       " 'Ferari']"
      ]
     },
     "execution_count": 33,
     "metadata": {},
     "output_type": "execute_result"
    }
   ],
   "source": [
    "cars\n"
   ]
  },
  {
   "cell_type": "code",
   "execution_count": 34,
   "id": "63db3b28",
   "metadata": {},
   "outputs": [],
   "source": [
    "#9-remove()\n",
    "cars.remove('Kia')"
   ]
  },
  {
   "cell_type": "code",
   "execution_count": 35,
   "id": "c92b5af4",
   "metadata": {},
   "outputs": [
    {
     "data": {
      "text/plain": [
       "['jaguar',\n",
       " 'BMW',\n",
       " 'mercedes',\n",
       " 'Rolls Royce',\n",
       " 'Toyota',\n",
       " 'Ford',\n",
       " 'Range rover',\n",
       " 'honda',\n",
       " 'Ferari']"
      ]
     },
     "execution_count": 35,
     "metadata": {},
     "output_type": "execute_result"
    }
   ],
   "source": [
    "cars"
   ]
  },
  {
   "cell_type": "code",
   "execution_count": 36,
   "id": "a98c2ad3",
   "metadata": {},
   "outputs": [],
   "source": [
    "#10-reverse()\n",
    "cars.reverse()"
   ]
  },
  {
   "cell_type": "code",
   "execution_count": 37,
   "id": "3863e941",
   "metadata": {},
   "outputs": [
    {
     "data": {
      "text/plain": [
       "['Ferari',\n",
       " 'honda',\n",
       " 'Range rover',\n",
       " 'Ford',\n",
       " 'Toyota',\n",
       " 'Rolls Royce',\n",
       " 'mercedes',\n",
       " 'BMW',\n",
       " 'jaguar']"
      ]
     },
     "execution_count": 37,
     "metadata": {},
     "output_type": "execute_result"
    }
   ],
   "source": [
    "cars"
   ]
  },
  {
   "cell_type": "code",
   "execution_count": 38,
   "id": "1bd99089",
   "metadata": {},
   "outputs": [],
   "source": [
    "#11-sort\n",
    "cars.sort()"
   ]
  },
  {
   "cell_type": "code",
   "execution_count": 39,
   "id": "26885deb",
   "metadata": {},
   "outputs": [
    {
     "data": {
      "text/plain": [
       "['BMW',\n",
       " 'Ferari',\n",
       " 'Ford',\n",
       " 'Range rover',\n",
       " 'Rolls Royce',\n",
       " 'Toyota',\n",
       " 'honda',\n",
       " 'jaguar',\n",
       " 'mercedes']"
      ]
     },
     "execution_count": 39,
     "metadata": {},
     "output_type": "execute_result"
    }
   ],
   "source": [
    "cars"
   ]
  },
  {
   "cell_type": "code",
   "execution_count": 40,
   "id": "0fcd9b8f",
   "metadata": {},
   "outputs": [],
   "source": [
    "# Sort the elements of the list in descending order\n",
    "cars.sort(reverse=True)"
   ]
  },
  {
   "cell_type": "code",
   "execution_count": 41,
   "id": "24e2d422",
   "metadata": {},
   "outputs": [
    {
     "data": {
      "text/plain": [
       "['mercedes',\n",
       " 'jaguar',\n",
       " 'honda',\n",
       " 'Toyota',\n",
       " 'Rolls Royce',\n",
       " 'Range rover',\n",
       " 'Ford',\n",
       " 'Ferari',\n",
       " 'BMW']"
      ]
     },
     "execution_count": 41,
     "metadata": {},
     "output_type": "execute_result"
    }
   ],
   "source": [
    "cars"
   ]
  },
  {
   "cell_type": "code",
   "execution_count": null,
   "id": "f28d124c",
   "metadata": {},
   "outputs": [],
   "source": []
  }
 ],
 "metadata": {
  "kernelspec": {
   "display_name": "Python 3 (ipykernel)",
   "language": "python",
   "name": "python3"
  },
  "language_info": {
   "codemirror_mode": {
    "name": "ipython",
    "version": 3
   },
   "file_extension": ".py",
   "mimetype": "text/x-python",
   "name": "python",
   "nbconvert_exporter": "python",
   "pygments_lexer": "ipython3",
   "version": "3.11.3"
  }
 },
 "nbformat": 4,
 "nbformat_minor": 5
}
